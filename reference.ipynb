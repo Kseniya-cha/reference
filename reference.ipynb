{
 "cells": [
  {
   "cell_type": "code",
   "execution_count": 1,
   "metadata": {},
   "outputs": [],
   "source": [
    "import tkinter as tk\n",
    "from tkinter.ttk import Combobox\n",
    "import os "
   ]
  },
  {
   "cell_type": "code",
   "execution_count": 48,
   "metadata": {},
   "outputs": [],
   "source": [
    "# названия всех файлов в папке\n",
    "filenames = []\n",
    "for root, dirs, files in os.walk(\".\"):  \n",
    "    for filename in files:\n",
    "        filenames.append(filename[:-4])\n",
    "filenames.remove('reference.i')\n",
    "filenames = ['- выбрать тему -'] + filenames\n",
    "\n",
    "\n",
    "# функция отркытия файла\n",
    "def openfile(event):\n",
    "\n",
    "    # предварительная очистка textbox\n",
    "    textbox.delete(\"1.0\",\"end\")\n",
    "\n",
    "    # получение имени файла и открытие\n",
    "    file = comb.get() + '.txt'\n",
    "    try:\n",
    "        with open(file) as f:\n",
    "            text = f.read()\n",
    "    except IOError:\n",
    "        text = \"\"\n",
    "    \n",
    "    # вставка текста файла в textbox\n",
    "    textbox.insert(\"1.0\",text)\n",
    "\n",
    "\n",
    "win = tk.Tk()\n",
    "win.title('Справка')\n",
    "win.geometry('750x800')\n",
    "win[\"bg\"] = \"lightblue\"\n",
    "\n",
    "\n",
    "# ячейка выбора, (Combobox = Entry по функциональности?)\n",
    "comb = Combobox(win, state=\"readonly\") # только для чтения\n",
    "comb['values'] = (filenames)\n",
    "comb.current(0) # значение по умолчанию\n",
    "comb.grid(column=0, row=0)\n",
    "\n",
    "\n",
    "# кнопка \"ok\", подтверждение выбора, открывает справку по выбранной функции\n",
    "btn_ok = tk.Button(win, height=1, width=5, text='ok')\n",
    "btn_ok.grid(column=2, row=0)\n",
    "win.grid_columnconfigure(1,minsize=-100)\n",
    "btn_ok.bind('<Button-1>', openfile)\n",
    "btn_ok.place(x=425)\n",
    "\n",
    "\n",
    "textbox = tk.Text(win, width=70, height=41, font=\"Courier 12\", bg=\"white\", fg='black')\n",
    "textbox.grid()\n",
    "\n",
    "scroll = tk.Scrollbar(win, orient='vertical', command=textbox.yview)\n",
    "scroll.grid(row=1, column=1, sticky='ns')\n",
    "\n",
    "\n",
    "win.mainloop()"
   ]
  },
  {
   "cell_type": "code",
   "execution_count": null,
   "metadata": {},
   "outputs": [],
   "source": []
  }
 ],
 "metadata": {
  "interpreter": {
   "hash": "9754a918a9a43bab896c1fe055ce24b338f775ec600da2a8dd08a327af3da562"
  },
  "kernelspec": {
   "display_name": "Python 3.9.7 ('base')",
   "language": "python",
   "name": "python3"
  },
  "language_info": {
   "codemirror_mode": {
    "name": "ipython",
    "version": 3
   },
   "file_extension": ".py",
   "mimetype": "text/x-python",
   "name": "python",
   "nbconvert_exporter": "python",
   "pygments_lexer": "ipython3",
   "version": "3.9.7"
  },
  "orig_nbformat": 4
 },
 "nbformat": 4,
 "nbformat_minor": 2
}
